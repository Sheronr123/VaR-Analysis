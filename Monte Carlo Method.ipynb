{
 "cells": [
  {
   "cell_type": "code",
   "execution_count": 1,
   "id": "cc6ba92f-1e0a-48a6-b719-401325027efe",
   "metadata": {},
   "outputs": [
    {
     "name": "stderr",
     "output_type": "stream",
     "text": [
      "[*********************100%***********************]  1 of 1 completed\n"
     ]
    },
    {
     "data": {
      "text/html": [
       "<div>\n",
       "<style scoped>\n",
       "    .dataframe tbody tr th:only-of-type {\n",
       "        vertical-align: middle;\n",
       "    }\n",
       "\n",
       "    .dataframe tbody tr th {\n",
       "        vertical-align: top;\n",
       "    }\n",
       "\n",
       "    .dataframe thead th {\n",
       "        text-align: right;\n",
       "    }\n",
       "</style>\n",
       "<table border=\"1\" class=\"dataframe\">\n",
       "  <thead>\n",
       "    <tr style=\"text-align: right;\">\n",
       "      <th>Ticker</th>\n",
       "      <th>C</th>\n",
       "    </tr>\n",
       "    <tr>\n",
       "      <th>Date</th>\n",
       "      <th></th>\n",
       "    </tr>\n",
       "  </thead>\n",
       "  <tbody>\n",
       "    <tr>\n",
       "      <th>2014-01-02</th>\n",
       "      <td>39.978485</td>\n",
       "    </tr>\n",
       "    <tr>\n",
       "      <th>2014-01-03</th>\n",
       "      <td>40.842754</td>\n",
       "    </tr>\n",
       "    <tr>\n",
       "      <th>2014-01-06</th>\n",
       "      <td>41.156342</td>\n",
       "    </tr>\n",
       "    <tr>\n",
       "      <th>2014-01-07</th>\n",
       "      <td>41.439335</td>\n",
       "    </tr>\n",
       "    <tr>\n",
       "      <th>2014-01-08</th>\n",
       "      <td>41.921196</td>\n",
       "    </tr>\n",
       "    <tr>\n",
       "      <th>...</th>\n",
       "      <td>...</td>\n",
       "    </tr>\n",
       "    <tr>\n",
       "      <th>2017-12-22</th>\n",
       "      <td>59.340660</td>\n",
       "    </tr>\n",
       "    <tr>\n",
       "      <th>2017-12-26</th>\n",
       "      <td>58.782562</td>\n",
       "    </tr>\n",
       "    <tr>\n",
       "      <th>2017-12-27</th>\n",
       "      <td>58.869019</td>\n",
       "    </tr>\n",
       "    <tr>\n",
       "      <th>2017-12-28</th>\n",
       "      <td>59.018379</td>\n",
       "    </tr>\n",
       "    <tr>\n",
       "      <th>2017-12-29</th>\n",
       "      <td>58.491734</td>\n",
       "    </tr>\n",
       "  </tbody>\n",
       "</table>\n",
       "<p>1007 rows × 1 columns</p>\n",
       "</div>"
      ],
      "text/plain": [
       "Ticker              C\n",
       "Date                 \n",
       "2014-01-02  39.978485\n",
       "2014-01-03  40.842754\n",
       "2014-01-06  41.156342\n",
       "2014-01-07  41.439335\n",
       "2014-01-08  41.921196\n",
       "...               ...\n",
       "2017-12-22  59.340660\n",
       "2017-12-26  58.782562\n",
       "2017-12-27  58.869019\n",
       "2017-12-28  59.018379\n",
       "2017-12-29  58.491734\n",
       "\n",
       "[1007 rows x 1 columns]"
      ]
     },
     "execution_count": 1,
     "metadata": {},
     "output_type": "execute_result"
    }
   ],
   "source": [
    "import numpy as np\n",
    "import yfinance as yf\n",
    "from scipy.stats import norm\n",
    "import pandas as pd\n",
    "import datetime\n",
    "\n",
    "def download_data(stock, startdate, enddate):\n",
    "    data = {}\n",
    "    ticker = yf.download(stock,start = startdate, end = enddate)\n",
    "    data[stock] = ticker['Adj Close']\n",
    "    return data\n",
    "\n",
    "df = download_data('C','2014-01-01','2018-01-01')\n",
    "stock_data = pd.DataFrame(df['C'])\n",
    "stock_data"
   ]
  },
  {
   "cell_type": "code",
   "execution_count": 29,
   "id": "0e9f865e-f7c1-4c00-b087-291dd05cd4fa",
   "metadata": {},
   "outputs": [
    {
     "name": "stdout",
     "output_type": "stream",
     "text": [
      "The value at risk using MS simulation is 24262.59925808187\n"
     ]
    }
   ],
   "source": [
    "# The value of risk is tomorrow\n",
    "def monte_carlo_sim_var(S, mean, sigma, c,n, iterations):\n",
    "    rand = np.random.normal(0,1,[1,iterations])\n",
    "    stock_price = S*np.exp(n*(mean-0.5*sigma**2)+sigma*np.sqrt(n)*rand)\n",
    "    stock_price = np.sort(stock_price)\n",
    "    percentile = np.percentile(stock_price,(1-c)*100)\n",
    "    return S - percentile\n",
    "\n",
    "stock_data['returns'] = stock_data['C'].pct_change(1)\n",
    "mean = stock_data['returns'].mean()\n",
    "sigma = stock_data['returns'].std()\n",
    "print(f'The value at risk using MS simulation is {monte_carlo_sim_var(1000000,mean,sigma,0.95,1,100000)}')"
   ]
  },
  {
   "cell_type": "code",
   "execution_count": null,
   "id": "8f09907d-fbf2-4c60-bf28-136eee493bf2",
   "metadata": {},
   "outputs": [],
   "source": []
  },
  {
   "cell_type": "code",
   "execution_count": null,
   "id": "ff1efb4f-1da9-426d-b353-7cc6a1e187c3",
   "metadata": {},
   "outputs": [],
   "source": []
  },
  {
   "cell_type": "code",
   "execution_count": null,
   "id": "a50d00dd-f0a7-4ad9-b7e6-fea32014e7fd",
   "metadata": {},
   "outputs": [],
   "source": []
  },
  {
   "cell_type": "code",
   "execution_count": null,
   "id": "309d19be-b63b-48f1-95b7-90cf2e8a39ea",
   "metadata": {},
   "outputs": [],
   "source": []
  },
  {
   "cell_type": "code",
   "execution_count": null,
   "id": "e42750ac-3938-4713-99dd-d3d2d05e3d47",
   "metadata": {},
   "outputs": [],
   "source": []
  }
 ],
 "metadata": {
  "kernelspec": {
   "display_name": "Python 3 (ipykernel)",
   "language": "python",
   "name": "python3"
  },
  "language_info": {
   "codemirror_mode": {
    "name": "ipython",
    "version": 3
   },
   "file_extension": ".py",
   "mimetype": "text/x-python",
   "name": "python",
   "nbconvert_exporter": "python",
   "pygments_lexer": "ipython3",
   "version": "3.12.7"
  }
 },
 "nbformat": 4,
 "nbformat_minor": 5
}
