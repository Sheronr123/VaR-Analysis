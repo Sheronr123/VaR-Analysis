{
 "cells": [
  {
   "cell_type": "code",
   "execution_count": 106,
   "id": "1e5960a6-d7a6-4c37-8004-3c62f6eda26e",
   "metadata": {},
   "outputs": [
    {
     "name": "stderr",
     "output_type": "stream",
     "text": [
      "[*********************100%***********************]  1 of 1 completed\n"
     ]
    },
    {
     "data": {
      "text/html": [
       "<div>\n",
       "<style scoped>\n",
       "    .dataframe tbody tr th:only-of-type {\n",
       "        vertical-align: middle;\n",
       "    }\n",
       "\n",
       "    .dataframe tbody tr th {\n",
       "        vertical-align: top;\n",
       "    }\n",
       "\n",
       "    .dataframe thead th {\n",
       "        text-align: right;\n",
       "    }\n",
       "</style>\n",
       "<table border=\"1\" class=\"dataframe\">\n",
       "  <thead>\n",
       "    <tr style=\"text-align: right;\">\n",
       "      <th>Ticker</th>\n",
       "      <th>C</th>\n",
       "    </tr>\n",
       "    <tr>\n",
       "      <th>Date</th>\n",
       "      <th></th>\n",
       "    </tr>\n",
       "  </thead>\n",
       "  <tbody>\n",
       "    <tr>\n",
       "      <th>2014-01-02</th>\n",
       "      <td>39.978493</td>\n",
       "    </tr>\n",
       "    <tr>\n",
       "      <th>2014-01-03</th>\n",
       "      <td>40.842777</td>\n",
       "    </tr>\n",
       "    <tr>\n",
       "      <th>2014-01-06</th>\n",
       "      <td>41.156353</td>\n",
       "    </tr>\n",
       "    <tr>\n",
       "      <th>2014-01-07</th>\n",
       "      <td>41.439358</td>\n",
       "    </tr>\n",
       "    <tr>\n",
       "      <th>2014-01-08</th>\n",
       "      <td>41.921200</td>\n",
       "    </tr>\n",
       "    <tr>\n",
       "      <th>...</th>\n",
       "      <td>...</td>\n",
       "    </tr>\n",
       "    <tr>\n",
       "      <th>2017-12-22</th>\n",
       "      <td>59.340660</td>\n",
       "    </tr>\n",
       "    <tr>\n",
       "      <th>2017-12-26</th>\n",
       "      <td>58.782547</td>\n",
       "    </tr>\n",
       "    <tr>\n",
       "      <th>2017-12-27</th>\n",
       "      <td>58.869034</td>\n",
       "    </tr>\n",
       "    <tr>\n",
       "      <th>2017-12-28</th>\n",
       "      <td>59.018383</td>\n",
       "    </tr>\n",
       "    <tr>\n",
       "      <th>2017-12-29</th>\n",
       "      <td>58.491714</td>\n",
       "    </tr>\n",
       "  </tbody>\n",
       "</table>\n",
       "<p>1007 rows × 1 columns</p>\n",
       "</div>"
      ],
      "text/plain": [
       "Ticker              C\n",
       "Date                 \n",
       "2014-01-02  39.978493\n",
       "2014-01-03  40.842777\n",
       "2014-01-06  41.156353\n",
       "2014-01-07  41.439358\n",
       "2014-01-08  41.921200\n",
       "...               ...\n",
       "2017-12-22  59.340660\n",
       "2017-12-26  58.782547\n",
       "2017-12-27  58.869034\n",
       "2017-12-28  59.018383\n",
       "2017-12-29  58.491714\n",
       "\n",
       "[1007 rows x 1 columns]"
      ]
     },
     "execution_count": 106,
     "metadata": {},
     "output_type": "execute_result"
    }
   ],
   "source": [
    "import numpy as np\n",
    "import yfinance as yf\n",
    "from scipy.stats import norm\n",
    "import pandas as pd\n",
    "import datetime\n",
    "\n",
    "def download_data(stock, startdate, enddate):\n",
    "    data = {}\n",
    "    ticker = yf.download(stock,start = startdate, end = enddate)\n",
    "    data[stock] = ticker['Adj Close']\n",
    "    return data\n",
    "\n",
    "df = download_data('C','2014-01-01','2018-01-01')\n",
    "stock_data = pd.DataFrame(df['C'])\n",
    "stock_data"
   ]
  },
  {
   "cell_type": "code",
   "execution_count": 120,
   "id": "84f94140-60bb-46f6-a3f0-8bc8ca3fd3b2",
   "metadata": {},
   "outputs": [
    {
     "name": "stdout",
     "output_type": "stream",
     "text": [
      "The value at risk is: 25409.15702268769\n"
     ]
    }
   ],
   "source": [
    "# The value of risk is tomorrow\n",
    "def calculate_var(position,c,mean,sigma):\n",
    "    v = norm.ppf(1-c)\n",
    "    var = position*(mean-(sigma*v))\n",
    "    return var\n",
    "\n",
    "# Log daily returns:\n",
    "stock_data['Log returns'] = np.log(1+(stock_data['C'].pct_change(1)))\n",
    "mean = stock_data['Log returns'].mean()\n",
    "sigma = stock_data['Log returns'].std()\n",
    "print(f'The value at risk is: {calculate_var(1000000,0.95,mean,sigma)}')"
   ]
  },
  {
   "cell_type": "code",
   "execution_count": null,
   "id": "ed3a54a2-6dca-4c37-a1dc-378dc834f365",
   "metadata": {},
   "outputs": [],
   "source": []
  },
  {
   "cell_type": "code",
   "execution_count": null,
   "id": "3e8ad1de-d2f8-41ae-be32-59f92ac6e742",
   "metadata": {},
   "outputs": [],
   "source": []
  },
  {
   "cell_type": "code",
   "execution_count": null,
   "id": "2a796cb4-9445-4d56-aab7-a8a5547de061",
   "metadata": {},
   "outputs": [],
   "source": []
  },
  {
   "cell_type": "code",
   "execution_count": null,
   "id": "0bda977c-8cc9-4058-9895-8ca6fd7df110",
   "metadata": {},
   "outputs": [],
   "source": []
  }
 ],
 "metadata": {
  "kernelspec": {
   "display_name": "Python 3 (ipykernel)",
   "language": "python",
   "name": "python3"
  },
  "language_info": {
   "codemirror_mode": {
    "name": "ipython",
    "version": 3
   },
   "file_extension": ".py",
   "mimetype": "text/x-python",
   "name": "python",
   "nbconvert_exporter": "python",
   "pygments_lexer": "ipython3",
   "version": "3.12.7"
  }
 },
 "nbformat": 4,
 "nbformat_minor": 5
}
